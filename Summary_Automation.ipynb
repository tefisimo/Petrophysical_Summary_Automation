{
 "cells": [
  {
   "cell_type": "code",
   "execution_count": 1,
   "id": "a98c7816",
   "metadata": {},
   "outputs": [],
   "source": [
    "import pandas as pd\n",
    "import os"
   ]
  },
  {
   "cell_type": "code",
   "execution_count": 2,
   "id": "05a3de1c",
   "metadata": {},
   "outputs": [],
   "source": [
    "import pprint"
   ]
  },
  {
   "cell_type": "markdown",
   "id": "82f33121",
   "metadata": {},
   "source": [
    "# Carga de archivo rigido"
   ]
  },
  {
   "cell_type": "code",
   "execution_count": 3,
   "id": "e05f159f",
   "metadata": {},
   "outputs": [],
   "source": [
    "nombreDePozo = input(\"Ingresa el nombre del Pozo: \")\n",
    "rutaArchivo = input(\"Copia y pega la ruta del archivo por favor: \\n\")"
   ]
  },
  {
   "cell_type": "code",
   "execution_count": 4,
   "id": "2869c83f",
   "metadata": {},
   "outputs": [],
   "source": [
    "df = pd.read_excel(f\"{rutaArchivo}/PETROFISICA {nombreDePozo}.xls\", sheet_name=\"NUMERICO\")"
   ]
  },
  {
   "cell_type": "code",
   "execution_count": 3,
   "id": "14c8a358",
   "metadata": {},
   "outputs": [],
   "source": [
    "#df = pd.read_excel(\"D:/Documents and settings/gonzalezgta/Desktop/Petrofisica Carito/Imagenes Petrofisicas/PETROFISICA MUC-108.xls\", sheet_name = \"NUMERICO\")"
   ]
  },
  {
   "cell_type": "code",
   "execution_count": 5,
   "id": "e31719c2",
   "metadata": {},
   "outputs": [
    {
     "name": "stdout",
     "output_type": "stream",
     "text": [
      "      DEPTH   Vshl   PHIE Sw R40_RQI      R KTIMUR PERMFZIK PERMFZIK1 PERMFZI  \\\n",
      "0     14426  0.403  0.011  1   0.014  0.001      0      NaN         0     NaN   \n",
      "1  14426.25  0.401  0.011  1   0.014  0.001      0      NaN         0     NaN   \n",
      "2   14426.5  0.397  0.011  1   0.014  0.001      0      NaN         0     NaN   \n",
      "3  14426.75  0.393  0.011  1   0.014  0.001      0      NaN         0     NaN   \n",
      "4     14427  0.392  0.011  1   0.014  0.001      0      NaN         0     NaN   \n",
      "\n",
      "      RT LIG      GR Rshl ANT ANP ZONA  \n",
      "0  0.778   0  84.725  1.5   0   0    0  \n",
      "1  0.812   0  84.327  1.5   0   0    0  \n",
      "2  0.867   0   83.72  1.5   0   0    0  \n",
      "3  0.938   0  83.212  1.5   0   0    0  \n",
      "4   1.02   0  82.954  1.5   0   0    0  \n"
     ]
    }
   ],
   "source": [
    "print(df.head())"
   ]
  },
  {
   "cell_type": "code",
   "execution_count": 6,
   "id": "1d6d51f3",
   "metadata": {},
   "outputs": [
    {
     "name": "stdout",
     "output_type": "stream",
     "text": [
      "        DEPTH      Vshl      PHIE    Sw   R40_RQI         R  KTIMUR  PERMFZIK  \\\n",
      "count    8020  7993.000  7932.000  7892  7892.000  7892.000    7892      6917   \n",
      "unique   8020   699.000   178.000   862  3216.000  3209.000    3563      4243   \n",
      "top     14426     0.042     0.001     1     0.012     0.001       0         0   \n",
      "freq        1    93.000   279.000  1672   175.000  1321.000    1764       777   \n",
      "\n",
      "        PERMFZIK1  PERMFZI        RT   LIG        GR  Rshl      ANT   ANP  \\\n",
      "count        7892     6917  7892.000  8021  7991.000  7998  8020.00  8020   \n",
      "unique       4162     3910  7522.000     3  7569.000     8     3.00     3   \n",
      "top             0        0     1.456     0    14.162     4     0.25     0   \n",
      "freq         1287      351     4.000  7930     3.000  2224  5723.00  4394   \n",
      "\n",
      "        ZONA  \n",
      "count   7998  \n",
      "unique     9  \n",
      "top        6  \n",
      "freq    2224  \n"
     ]
    }
   ],
   "source": [
    "print(df.describe())"
   ]
  },
  {
   "cell_type": "code",
   "execution_count": 7,
   "id": "fd350e02",
   "metadata": {},
   "outputs": [
    {
     "name": "stdout",
     "output_type": "stream",
     "text": [
      "<class 'pandas.core.frame.DataFrame'>\n",
      "RangeIndex: 8023 entries, 0 to 8022\n",
      "Data columns (total 17 columns):\n",
      " #   Column     Non-Null Count  Dtype \n",
      "---  ------     --------------  ----- \n",
      " 0   DEPTH      8020 non-null   object\n",
      " 1   Vshl       7993 non-null   object\n",
      " 2   PHIE       7932 non-null   object\n",
      " 3   Sw         7892 non-null   object\n",
      " 4   R40_RQI    7892 non-null   object\n",
      " 5   R          7892 non-null   object\n",
      " 6   KTIMUR     7892 non-null   object\n",
      " 7   PERMFZIK   6917 non-null   object\n",
      " 8   PERMFZIK1  7892 non-null   object\n",
      " 9   PERMFZI    6917 non-null   object\n",
      " 10  RT         7892 non-null   object\n",
      " 11  LIG        8021 non-null   object\n",
      " 12  GR         7991 non-null   object\n",
      " 13  Rshl       7998 non-null   object\n",
      " 14  ANT        8020 non-null   object\n",
      " 15  ANP        8020 non-null   object\n",
      " 16  ZONA       7998 non-null   object\n",
      "dtypes: object(17)\n",
      "memory usage: 1.0+ MB\n",
      "None\n"
     ]
    }
   ],
   "source": [
    "print(df.info())"
   ]
  },
  {
   "cell_type": "markdown",
   "id": "e46268dc",
   "metadata": {},
   "source": [
    "# Asignacion a variable de limpieza de filas con valores \"NaN\" o \"Nulls\""
   ]
  },
  {
   "cell_type": "code",
   "execution_count": 8,
   "id": "fa1052b8",
   "metadata": {},
   "outputs": [],
   "source": [
    "df_without_nulls = df.dropna()"
   ]
  },
  {
   "cell_type": "code",
   "execution_count": 9,
   "id": "4d1e25bb",
   "metadata": {
    "scrolled": true
   },
   "outputs": [
    {
     "name": "stdout",
     "output_type": "stream",
     "text": [
      "        DEPTH   Vshl   PHIE     Sw R40_RQI      R KTIMUR PERMFZIK PERMFZIK1  \\\n",
      "976     14670  0.069  0.069   0.99   0.122  0.122  0.069    4.355     0.069   \n",
      "977  14670.25  0.086  0.057   0.99   0.087  0.087  0.029    1.392     0.029   \n",
      "978   14670.5   0.11  0.046   0.99    0.06   0.06  0.011    0.489     0.011   \n",
      "979  14670.75   0.14  0.036  0.997    0.04   0.04  0.004    0.129     0.004   \n",
      "980     14671  0.175  0.029      1   0.027  0.027  0.001    0.046     0.001   \n",
      "\n",
      "    PERMFZI     RT LIG      GR Rshl   ANT ANP ZONA  \n",
      "976   1.987  8.451   0  21.271  1.5  0.25   0    1  \n",
      "977   0.804  6.972   0  25.517  1.5  0.25   0    1  \n",
      "978   0.309  5.829   0  31.109  1.5  0.25   0    1  \n",
      "979   0.118  4.939   0  37.918  1.5  0.25   0    1  \n",
      "980    0.05  4.242   0  45.258  1.5  0.25   0    1  \n"
     ]
    }
   ],
   "source": [
    "print(df_without_nulls.head())"
   ]
  },
  {
   "cell_type": "markdown",
   "id": "010121e8",
   "metadata": {},
   "source": [
    "# Investigación de tipo de dato por columna"
   ]
  },
  {
   "cell_type": "code",
   "execution_count": 10,
   "id": "0eb6dd9a",
   "metadata": {
    "scrolled": true
   },
   "outputs": [
    {
     "name": "stdout",
     "output_type": "stream",
     "text": [
      "DEPTH        object\n",
      "Vshl         object\n",
      "PHIE         object\n",
      "Sw           object\n",
      "R40_RQI      object\n",
      "R            object\n",
      "KTIMUR       object\n",
      "PERMFZIK     object\n",
      "PERMFZIK1    object\n",
      "PERMFZI      object\n",
      "RT           object\n",
      "LIG          object\n",
      "GR           object\n",
      "Rshl         object\n",
      "ANT          object\n",
      "ANP          object\n",
      "ZONA         object\n",
      "dtype: object\n"
     ]
    }
   ],
   "source": [
    "dtypes = df_without_nulls.dtypes\n",
    "print(dtypes)"
   ]
  },
  {
   "cell_type": "markdown",
   "id": "93e1c7ad",
   "metadata": {},
   "source": [
    "# Investigación de archivos unicos en una columna"
   ]
  },
  {
   "cell_type": "code",
   "execution_count": 11,
   "id": "90df76f6",
   "metadata": {
    "scrolled": true
   },
   "outputs": [
    {
     "name": "stdout",
     "output_type": "stream",
     "text": [
      "[0.069 0.057 0.046 0.036 0.029 0.024 0.021 0.019 0.02 0.022 0.023 0.026\n",
      " 0.027 0.028 0.03 0.031 0.025 0.018 0.017 0.016 0.015 0.014 0.013 0.012\n",
      " 0.011 0.035 0.039 0.041 0.037 0.04 0.044 0.048 0.053 0.06 0.062 0.064\n",
      " 0.063 0.061 0.059 0.056 0.055 0.058 0.054 0.052 0.05 0.049 0.047 0.043\n",
      " 0.042 0.066 0.08 0.084 0.098 0.099 0.109 0.113 0.111 0.106 0.092 0.087\n",
      " 0.086 0.078 0.067 0.068 0.077 0.076 0.093 0.096 0.079 0.001 0.008 0.009\n",
      " 0.065 0.051 0.034 0.033 0.045 0.071 0.072 0.082 0.09 0.103 0.118 0.117\n",
      " 0.125 0.124 0.123 0.115 0.116 0.108 0.097 0.095 0.081 0.032 0.074 0.083\n",
      " 0.091 0.038 0.088 0.107 0.119 0.12 0.122 0.121 0.112 0.145 0.176 0.175\n",
      " 0.196 0.192 0.193 0.169 0.17 0.143 0.144 0.129 0.101 0.089 0.1 0.102\n",
      " 0.105 0.104 0.11 0.114 0.126 0.007 0.085 0.075 0.006 0.01 0.07 0.073\n",
      " 0.094 0.003 0.002 0.004 0.005 0.128 0.13 0.131 0.132 0.133 0.134 0.135\n",
      " 0.136 0.127 0.14 0.142 0.141 0.138 0.137 0.139 0.171 0.207 0.222 0.216\n",
      " 0.219 0.174 0.173 0.147 0.146 '-------']\n"
     ]
    }
   ],
   "source": [
    "types = df_without_nulls[\"PHIE\"].unique()\n",
    "print(types)"
   ]
  },
  {
   "cell_type": "markdown",
   "id": "df923d4f",
   "metadata": {},
   "source": [
    "# Eliminación de ultima fila por ser un \"string\""
   ]
  },
  {
   "cell_type": "code",
   "execution_count": 12,
   "id": "69b30576",
   "metadata": {},
   "outputs": [
    {
     "name": "stdout",
     "output_type": "stream",
     "text": [
      "         DEPTH   Vshl   PHIE     Sw R40_RQI      R KTIMUR PERMFZIK PERMFZIK1  \\\n",
      "976      14670  0.069  0.069   0.99   0.122  0.122  0.069    4.355     0.069   \n",
      "977   14670.25  0.086  0.057   0.99   0.087  0.087  0.029    1.392     0.029   \n",
      "978    14670.5   0.11  0.046   0.99    0.06   0.06  0.011    0.489     0.011   \n",
      "979   14670.75   0.14  0.036  0.997    0.04   0.04  0.004    0.129     0.004   \n",
      "980      14671  0.175  0.029      1   0.027  0.027  0.001    0.046     0.001   \n",
      "...        ...    ...    ...    ...     ...    ...    ...      ...       ...   \n",
      "7887     16397  0.374  0.065   0.99    0.11   0.11  0.052    0.017     0.051   \n",
      "7888  16397.25  0.375  0.064   0.99    0.11   0.11   0.05    0.016      0.05   \n",
      "7889   16397.5  0.385  0.059   0.99   0.095  0.095  0.033     0.01     0.035   \n",
      "7890  16397.75  0.401  0.056   0.99   0.088  0.088  0.026    0.008      0.03   \n",
      "7891     16398   0.42  0.049   0.99   0.073  0.073  0.015    0.005     0.019   \n",
      "\n",
      "     PERMFZI     RT LIG      GR Rshl   ANT ANP ZONA  \n",
      "976    1.987  8.451   0  21.271  1.5  0.25   0    1  \n",
      "977    0.804  6.972   0  25.517  1.5  0.25   0    1  \n",
      "978    0.309  5.829   0  31.109  1.5  0.25   0    1  \n",
      "979    0.118  4.939   0  37.918  1.5  0.25   0    1  \n",
      "980     0.05  4.242   0  45.258  1.5  0.25   0    1  \n",
      "...      ...    ...  ..     ...  ...   ...  ..  ...  \n",
      "7887   0.345  2.345   0  90.054  4.5     0   0    7  \n",
      "7888   0.337  2.357   0  90.361  4.5     0   0    7  \n",
      "7889   0.246  2.369   0  91.819  4.5     0   0    7  \n",
      "7890   0.206  2.381   0  94.214  4.5     0   0    7  \n",
      "7891   0.135  2.392   0  97.014  4.5     0   0    7  \n",
      "\n",
      "[6912 rows x 17 columns]\n"
     ]
    }
   ],
   "source": [
    "df_sin_ultima = df_without_nulls.drop(df_without_nulls.index[-1])\n",
    "print(df_sin_ultima)"
   ]
  },
  {
   "cell_type": "code",
   "execution_count": 13,
   "id": "c9839393",
   "metadata": {},
   "outputs": [
    {
     "name": "stdout",
     "output_type": "stream",
     "text": [
      "DEPTH        object\n",
      "Vshl         object\n",
      "PHIE         object\n",
      "Sw           object\n",
      "R40_RQI      object\n",
      "R            object\n",
      "KTIMUR       object\n",
      "PERMFZIK     object\n",
      "PERMFZIK1    object\n",
      "PERMFZI      object\n",
      "RT           object\n",
      "LIG          object\n",
      "GR           object\n",
      "Rshl         object\n",
      "ANT          object\n",
      "ANP          object\n",
      "ZONA         object\n",
      "dtype: object\n"
     ]
    }
   ],
   "source": [
    "dtypes = df_sin_ultima.dtypes\n",
    "print(dtypes)"
   ]
  },
  {
   "cell_type": "code",
   "execution_count": 14,
   "id": "e300a71e",
   "metadata": {},
   "outputs": [
    {
     "name": "stdout",
     "output_type": "stream",
     "text": [
      "DEPTH        15534.117766\n",
      "Vshl             0.178818\n",
      "PHIE             0.069328\n",
      "Sw               0.511381\n",
      "R40_RQI          1.743306\n",
      "R                1.741977\n",
      "KTIMUR           7.714832\n",
      "PERMFZIK        61.809393\n",
      "PERMFZIK1       25.083601\n",
      "PERMFZI          8.633834\n",
      "RT              98.294667\n",
      "LIG              0.013021\n",
      "GR              42.591133\n",
      "Rshl             3.180122\n",
      "ANT              0.191804\n",
      "ANP               0.12576\n",
      "ZONA             4.360243\n",
      "dtype: object\n"
     ]
    }
   ],
   "source": [
    "averages = df_sin_ultima.mean()\n",
    "print(averages)"
   ]
  },
  {
   "cell_type": "code",
   "execution_count": 15,
   "id": "f1a55e47",
   "metadata": {},
   "outputs": [
    {
     "name": "stdout",
     "output_type": "stream",
     "text": [
      "0.06316107382550336\n"
     ]
    }
   ],
   "source": [
    "average_phie = df_sin_ultima.query(\"DEPTH >= 15817 & DEPTH <= 15854\")[\"Vshl\"].mean()\n",
    "print(average_phie)"
   ]
  },
  {
   "cell_type": "markdown",
   "id": "2df6895d",
   "metadata": {},
   "source": [
    "# Input para especificar curvas necesarias"
   ]
  },
  {
   "cell_type": "code",
   "execution_count": 16,
   "id": "7894dc48",
   "metadata": {},
   "outputs": [
    {
     "name": "stdout",
     "output_type": "stream",
     "text": [
      "['Vshl', 'PHIE', 'Sw', 'PERMFZIK']\n"
     ]
    }
   ],
   "source": [
    "curvas = []\n",
    "user_input = input(\"Cuales Curvas Quieres Usar? Separadas por coma \\n\")\n",
    "curvas = user_input.split(\",\")\n",
    "print(curvas)"
   ]
  },
  {
   "cell_type": "code",
   "execution_count": 17,
   "id": "05867d7c",
   "metadata": {},
   "outputs": [
    {
     "name": "stdout",
     "output_type": "stream",
     "text": [
      "Index(['DEPTH', 'Vshl', 'PHIE', 'Sw', 'R40_RQI', 'R', 'KTIMUR', 'PERMFZIK',\n",
      "       'PERMFZIK1', 'PERMFZI', 'RT', 'LIG', 'GR', 'Rshl', 'ANT', 'ANP',\n",
      "       'ZONA'],\n",
      "      dtype='object')\n"
     ]
    }
   ],
   "source": [
    "print(df.columns)"
   ]
  },
  {
   "cell_type": "markdown",
   "id": "af723463",
   "metadata": {},
   "source": [
    "#  Ciclo \"for\" para calcular parametros de curvas especificadas en un input previo entre valores fijos"
   ]
  },
  {
   "cell_type": "code",
   "execution_count": 17,
   "id": "7c41c218",
   "metadata": {},
   "outputs": [
    {
     "name": "stdout",
     "output_type": "stream",
     "text": [
      "Vshl: 0.063\n",
      "PHIE: 0.119\n",
      "Sw: 0.204\n",
      "PERMFZIK: 108.7\n"
     ]
    }
   ],
   "source": [
    "for curva in curvas:\n",
    "    average_per_column = df_sin_ultima.query(\"DEPTH >= 15817 & DEPTH <= 15854\")[curva].mean()\n",
    "    print(f\"{curva}: {average_per_column.round(3)}\")"
   ]
  },
  {
   "cell_type": "markdown",
   "id": "8a9a96ec",
   "metadata": {},
   "source": [
    "# Ciclo \"for\" para calcular parametros de todo el dataframe entre valores fijos"
   ]
  },
  {
   "cell_type": "code",
   "execution_count": 18,
   "id": "4cb105d6",
   "metadata": {},
   "outputs": [
    {
     "name": "stdout",
     "output_type": "stream",
     "text": [
      "DEPTH: 15835.5\n",
      "Vshl: 0.063\n",
      "PHIE: 0.119\n",
      "Sw: 0.204\n",
      "R40_RQI: 3.267\n",
      "R: 3.267\n",
      "KTIMUR: 20.827\n",
      "PERMFZIK: 108.7\n",
      "PERMFZIK1: 38.08\n",
      "PERMFZI: 11.464\n",
      "RT: 211.951\n",
      "LIG: 0.0\n",
      "GR: 19.714\n",
      "Rshl: 4.0\n",
      "ANT: 0.25\n",
      "ANP: 0.248\n",
      "ZONA: 6.0\n"
     ]
    }
   ],
   "source": [
    "for column in df_sin_ultima:\n",
    "    average_per_column = df_sin_ultima.query(\"DEPTH >= 15817 & DEPTH <= 15854\")[column].mean()\n",
    "    print(f\"{column}: {average_per_column.round(3)}\")"
   ]
  },
  {
   "cell_type": "code",
   "execution_count": 19,
   "id": "7f4de462",
   "metadata": {},
   "outputs": [
    {
     "name": "stdout",
     "output_type": "stream",
     "text": [
      "Cual es el tope del intervalo? \n",
      "15756\n",
      "Cual es la base del intervalo? \n",
      "15771\n",
      "DEPTH: 15763.5\n",
      "Vshl: 0.066\n",
      "PHIE: 0.118\n",
      "Sw: 0.199\n",
      "R40_RQI: 3.343\n",
      "R: 3.343\n",
      "KTIMUR: 19.999\n",
      "PERMFZIK: 105.051\n",
      "PERMFZIK1: 38.351\n",
      "PERMFZI: 10.379\n",
      "RT: 262.032\n",
      "LIG: 0.0\n",
      "GR: 20.385\n",
      "Rshl: 4.0\n",
      "ANT: 0.25\n",
      "ANP: 0.25\n",
      "ZONA: 6.0\n",
      "Excelente, quisieras ingresar otro intervalo? S/N \n",
      "n\n",
      "{'Intervalo': '15756 - 15771', 'DEPTH': 15763.5, 'Vshl': 0.06580327868852459, 'PHIE': 0.11821311475409833, 'Sw': 0.19932786885245904, 'R40_RQI': 3.343409836065573, 'R': 3.343409836065573, 'KTIMUR': 19.999016393442627, 'PERMFZIK': 105.050868852459, 'PERMFZIK1': 38.3512131147541, 'PERMFZI': 10.379131147540983, 'RT': 262.0321803278688, 'LIG': 0.0, 'GR': 20.385163934426235, 'Rshl': 4.0, 'ANT': 0.25, 'ANP': 0.25, 'ZONA': 6.0}\n",
      "[15756, 15771]\n",
      "Cual es el tope del intervalo? \n",
      "15756\n",
      "Cual es la base del intervalo? \n",
      "15771\n",
      "DEPTH: 15763.5\n",
      "Vshl: 0.066\n",
      "PHIE: 0.118\n",
      "Sw: 0.199\n",
      "R40_RQI: 3.343\n",
      "R: 3.343\n",
      "KTIMUR: 19.999\n",
      "PERMFZIK: 105.051\n",
      "PERMFZIK1: 38.351\n",
      "PERMFZI: 10.379\n",
      "RT: 262.032\n",
      "LIG: 0.0\n",
      "GR: 20.385\n",
      "Rshl: 4.0\n",
      "ANT: 0.25\n",
      "ANP: 0.25\n",
      "ZONA: 6.0\n",
      "Excelente, quisieras ingresar otro intervalo? S/N \n",
      "N\n",
      "{'Intervalo': '15756 - 15771', 'DEPTH': 15763.5, 'Vshl': 0.06580327868852459, 'PHIE': 0.11821311475409833, 'Sw': 0.19932786885245904, 'R40_RQI': 3.343409836065573, 'R': 3.343409836065573, 'KTIMUR': 19.999016393442627, 'PERMFZIK': 105.050868852459, 'PERMFZIK1': 38.3512131147541, 'PERMFZI': 10.379131147540983, 'RT': 262.0321803278688, 'LIG': 0.0, 'GR': 20.385163934426235, 'Rshl': 4.0, 'ANT': 0.25, 'ANP': 0.25, 'ZONA': 6.0}\n",
      "[15756, 15771, 15756, 15771]\n",
      "Gracias por usar el automatizador de sumarios\n"
     ]
    }
   ],
   "source": [
    "intervalos = {}\n",
    "intervalos_lista = []\n",
    "want_continue = True\n",
    "\n",
    "while want_continue:\n",
    "    intervalo_tope = input(\"Cual es el tope del intervalo? \\n\")\n",
    "    intervalos_lista.append(int(intervalo_tope))\n",
    "    \n",
    "    intervalo_base = input(\"Cual es la base del intervalo? \\n\")\n",
    "    intervalos_lista.append(int(intervalo_base))\n",
    "    \n",
    "    intervalos.update({\"Intervalo\": intervalo_tope + \" - \" + intervalo_base})\n",
    "    \n",
    "    for column in df_sin_ultima:\n",
    "        average_per_column = df_sin_ultima.query(f\"DEPTH >= {intervalo_tope} & DEPTH <= {intervalo_base}\")[column].mean()\n",
    "        intervalos.update({column: average_per_column})\n",
    "        print(f\"{column}: {average_per_column.round(3)}\")\n",
    "    \n",
    "    otro_intervalo = input(\"Excelente, quisieras ingresar otro intervalo? S/N \\n\")\n",
    "    if otro_intervalo == \"N\":\n",
    "        want_continue = False\n",
    "    \n",
    "    print(intervalos)\n",
    "    print(intervalos_lista)\n",
    "    \n",
    "print(\"Gracias por usar el automatizador de sumarios\")\n"
   ]
  },
  {
   "cell_type": "markdown",
   "id": "50facd7c",
   "metadata": {},
   "source": [
    "## Calculo de parametros petrofísicos con todas las curvas disponibles en el dataframe"
   ]
  },
  {
   "cell_type": "code",
   "execution_count": 20,
   "id": "3029ceae",
   "metadata": {},
   "outputs": [
    {
     "name": "stdout",
     "output_type": "stream",
     "text": [
      "Cual es el tope del intervalo? \n",
      "15756\n",
      "Cual es la base del intervalo? \n",
      "15771\n",
      "Excelente, quisieras ingresar otro intervalo? S/N \n",
      "N\n",
      "[{'Intervalo': '15756 - 15771', 'DEPTH': 15763.5, 'Vshl': 0.06580327868852459, 'PHIE': 0.11821311475409833, 'Sw': 0.19932786885245904, 'R40_RQI': 3.343409836065573, 'R': 3.343409836065573, 'KTIMUR': 19.999016393442627, 'PERMFZIK': 105.050868852459, 'PERMFZIK1': 38.3512131147541, 'PERMFZI': 10.379131147540983, 'RT': 262.0321803278688, 'LIG': 0.0, 'GR': 20.385163934426235, 'Rshl': 4.0, 'ANT': 0.25, 'ANP': 0.25, 'ZONA': 6.0}]\n",
      "Gracias por usar el automatizador de sumarios\n"
     ]
    }
   ],
   "source": [
    "intervalos = {}\n",
    "intervalos_lista = []\n",
    "want_continue = True\n",
    "\n",
    "while want_continue:\n",
    "    intervalo_tope = input(\"Cual es el tope del intervalo? \\n\")\n",
    "    \n",
    "    intervalo_base = input(\"Cual es la base del intervalo? \\n\")\n",
    "    \n",
    "    intervalos.update({\"Intervalo\": intervalo_tope + \" - \" + intervalo_base})\n",
    "    \n",
    "    for column in df_sin_ultima:\n",
    "        average_per_column = df_sin_ultima.query(f\"DEPTH >= {intervalo_tope} & DEPTH <= {intervalo_base}\")[column].mean()\n",
    "        intervalos.update({column: average_per_column})\n",
    "    \n",
    "    intervalos_lista.append(intervalos)\n",
    "    \n",
    "    intervalos = {}\n",
    "    \n",
    "    otro_intervalo = input(\"Excelente, quisieras ingresar otro intervalo? S/N \\n\")\n",
    "    if otro_intervalo == \"N\":\n",
    "        want_continue = False\n",
    "    \n",
    "print(intervalos_lista)\n",
    "    \n",
    "print(\"Gracias por usar el automatizador de sumarios\")"
   ]
  },
  {
   "cell_type": "markdown",
   "id": "96984873",
   "metadata": {},
   "source": [
    "## Calculo de parametros petrofisicos a partir de input con las curvas que quiero ver"
   ]
  },
  {
   "cell_type": "code",
   "execution_count": 18,
   "id": "73f1c263",
   "metadata": {},
   "outputs": [
    {
     "name": "stdout",
     "output_type": "stream",
     "text": [
      "[{'ANP': 15,\n",
      "  'Base': 15771,\n",
      "  'Espesor': 15,\n",
      "  'PERMFZIK': 105.051,\n",
      "  'PHIE': 0.118,\n",
      "  'Sw': 0.199,\n",
      "  'Tope': 15756,\n",
      "  'Vshl': 0.066},\n",
      " {'ANP': 37,\n",
      "  'Base': 15854,\n",
      "  'Espesor': 37,\n",
      "  'PERMFZIK': 108.7,\n",
      "  'PHIE': 0.119,\n",
      "  'Sw': 0.204,\n",
      "  'Tope': 15817,\n",
      "  'Vshl': 0.063},\n",
      " {'ANP': 14,\n",
      "  'Base': 15910,\n",
      "  'Espesor': 14,\n",
      "  'PERMFZIK': 17.225,\n",
      "  'PHIE': 0.118,\n",
      "  'Sw': 0.252,\n",
      "  'Tope': 15896,\n",
      "  'Vshl': 0.144}]\n",
      "\n",
      " Gracias por usar el automatizador de sumarios \n",
      "\n"
     ]
    }
   ],
   "source": [
    "intervalos = {}\n",
    "intervalos_lista = []\n",
    "want_continue = True\n",
    "\n",
    "while want_continue:\n",
    "    intervalo_tope = int(input(\"Cual es el tope del intervalo? \\n\"))\n",
    "    intervalos.update({\"Tope\": intervalo_tope})\n",
    "    \n",
    "    intervalo_base = int(input(\"Cual es la base del intervalo? \\n\"))\n",
    "    intervalos.update({\"Base\": intervalo_base})\n",
    "    \n",
    "    intervalos.update({\"Espesor\": intervalo_base - intervalo_tope})\n",
    "    intervalos.update({\"ANP\": intervalo_base - intervalo_tope})\n",
    "    \n",
    "    for column in curvas:\n",
    "        average_per_column = df_sin_ultima.query(f\"DEPTH >= {intervalo_tope} & DEPTH <= {intervalo_base}\")[column].mean()\n",
    "        intervalos.update({column: average_per_column.round(3)})\n",
    "    \n",
    "    intervalos_lista.append(intervalos)\n",
    "    \n",
    "    intervalos = {}\n",
    "    \n",
    "    otro_intervalo = input(\"Excelente, quisieras ingresar otro intervalo? S/N \\n\")\n",
    "    if otro_intervalo == \"N\":\n",
    "        want_continue = False\n",
    "\n",
    "pprint.pprint(intervalos_lista)\n",
    "\n",
    "print(\"\\n Gracias por usar el automatizador de sumarios \\n\")\n"
   ]
  },
  {
   "cell_type": "code",
   "execution_count": 19,
   "id": "9ed73b5a",
   "metadata": {},
   "outputs": [
    {
     "data": {
      "text/html": [
       "<div>\n",
       "<style scoped>\n",
       "    .dataframe tbody tr th:only-of-type {\n",
       "        vertical-align: middle;\n",
       "    }\n",
       "\n",
       "    .dataframe tbody tr th {\n",
       "        vertical-align: top;\n",
       "    }\n",
       "\n",
       "    .dataframe thead th {\n",
       "        text-align: right;\n",
       "    }\n",
       "</style>\n",
       "<table border=\"1\" class=\"dataframe\">\n",
       "  <thead>\n",
       "    <tr style=\"text-align: right;\">\n",
       "      <th></th>\n",
       "      <th>Tope</th>\n",
       "      <th>Base</th>\n",
       "      <th>Espesor</th>\n",
       "      <th>ANP</th>\n",
       "      <th>Vshl</th>\n",
       "      <th>PHIE</th>\n",
       "      <th>Sw</th>\n",
       "      <th>PERMFZIK</th>\n",
       "    </tr>\n",
       "  </thead>\n",
       "  <tbody>\n",
       "  </tbody>\n",
       "</table>\n",
       "</div>"
      ],
      "text/plain": [
       "Empty DataFrame\n",
       "Columns: [Tope, Base, Espesor, ANP, Vshl, PHIE, Sw, PERMFZIK]\n",
       "Index: []"
      ]
     },
     "execution_count": 19,
     "metadata": {},
     "output_type": "execute_result"
    }
   ],
   "source": [
    "df_sumario = pd.DataFrame(columns = intervalos_lista[0].keys())\n",
    "df_sumario"
   ]
  },
  {
   "cell_type": "code",
   "execution_count": 20,
   "id": "6925f667",
   "metadata": {},
   "outputs": [
    {
     "name": "stdout",
     "output_type": "stream",
     "text": [
      "0  <- Fila cargada en el index\n",
      "1  <- Fila cargada en el index\n",
      "2  <- Fila cargada en el index\n"
     ]
    }
   ],
   "source": [
    "#Accediendo a cada index de la lista para extraer una fila de datos\n",
    "\n",
    "for i in range(0,len(intervalos_lista)):\n",
    "    individual_row_data = (intervalos_lista[i].values())\n",
    "    \n",
    "    length = len(df_sumario)\n",
    "    print(len(df_sumario), \" <- Fila cargada en el index\")\n",
    "    df_sumario.loc[length] = individual_row_data"
   ]
  },
  {
   "cell_type": "code",
   "execution_count": 21,
   "id": "2cb77894",
   "metadata": {},
   "outputs": [
    {
     "data": {
      "text/html": [
       "<div>\n",
       "<style scoped>\n",
       "    .dataframe tbody tr th:only-of-type {\n",
       "        vertical-align: middle;\n",
       "    }\n",
       "\n",
       "    .dataframe tbody tr th {\n",
       "        vertical-align: top;\n",
       "    }\n",
       "\n",
       "    .dataframe thead th {\n",
       "        text-align: right;\n",
       "    }\n",
       "</style>\n",
       "<table border=\"1\" class=\"dataframe\">\n",
       "  <thead>\n",
       "    <tr style=\"text-align: right;\">\n",
       "      <th></th>\n",
       "      <th>Tope</th>\n",
       "      <th>Base</th>\n",
       "      <th>Espesor</th>\n",
       "      <th>ANP</th>\n",
       "      <th>Vshl</th>\n",
       "      <th>PHIE</th>\n",
       "      <th>Sw</th>\n",
       "      <th>PERMFZIK</th>\n",
       "    </tr>\n",
       "  </thead>\n",
       "  <tbody>\n",
       "    <tr>\n",
       "      <th>0</th>\n",
       "      <td>15756.0</td>\n",
       "      <td>15771.0</td>\n",
       "      <td>15.0</td>\n",
       "      <td>15.0</td>\n",
       "      <td>0.066</td>\n",
       "      <td>0.118</td>\n",
       "      <td>0.199</td>\n",
       "      <td>105.051</td>\n",
       "    </tr>\n",
       "    <tr>\n",
       "      <th>1</th>\n",
       "      <td>15817.0</td>\n",
       "      <td>15854.0</td>\n",
       "      <td>37.0</td>\n",
       "      <td>37.0</td>\n",
       "      <td>0.063</td>\n",
       "      <td>0.119</td>\n",
       "      <td>0.204</td>\n",
       "      <td>108.700</td>\n",
       "    </tr>\n",
       "    <tr>\n",
       "      <th>2</th>\n",
       "      <td>15896.0</td>\n",
       "      <td>15910.0</td>\n",
       "      <td>14.0</td>\n",
       "      <td>14.0</td>\n",
       "      <td>0.144</td>\n",
       "      <td>0.118</td>\n",
       "      <td>0.252</td>\n",
       "      <td>17.225</td>\n",
       "    </tr>\n",
       "  </tbody>\n",
       "</table>\n",
       "</div>"
      ],
      "text/plain": [
       "      Tope     Base  Espesor   ANP   Vshl   PHIE     Sw  PERMFZIK\n",
       "0  15756.0  15771.0     15.0  15.0  0.066  0.118  0.199   105.051\n",
       "1  15817.0  15854.0     37.0  37.0  0.063  0.119  0.204   108.700\n",
       "2  15896.0  15910.0     14.0  14.0  0.144  0.118  0.252    17.225"
      ]
     },
     "execution_count": 21,
     "metadata": {},
     "output_type": "execute_result"
    }
   ],
   "source": [
    "df_sumario"
   ]
  },
  {
   "cell_type": "code",
   "execution_count": 22,
   "id": "2a0f19a7",
   "metadata": {},
   "outputs": [
    {
     "data": {
      "text/html": [
       "<div>\n",
       "<style scoped>\n",
       "    .dataframe tbody tr th:only-of-type {\n",
       "        vertical-align: middle;\n",
       "    }\n",
       "\n",
       "    .dataframe tbody tr th {\n",
       "        vertical-align: top;\n",
       "    }\n",
       "\n",
       "    .dataframe thead th {\n",
       "        text-align: right;\n",
       "    }\n",
       "</style>\n",
       "<table border=\"1\" class=\"dataframe\">\n",
       "  <thead>\n",
       "    <tr style=\"text-align: right;\">\n",
       "      <th></th>\n",
       "      <th>Tope</th>\n",
       "      <th>Base</th>\n",
       "      <th>Espesor</th>\n",
       "      <th>ANP</th>\n",
       "      <th>Vshl</th>\n",
       "      <th>PHIE</th>\n",
       "      <th>Sw</th>\n",
       "      <th>PERMFZIK</th>\n",
       "    </tr>\n",
       "  </thead>\n",
       "  <tbody>\n",
       "    <tr>\n",
       "      <th>0</th>\n",
       "      <td>15756</td>\n",
       "      <td>15771</td>\n",
       "      <td>15</td>\n",
       "      <td>15</td>\n",
       "      <td>0.066</td>\n",
       "      <td>0.118</td>\n",
       "      <td>0.199</td>\n",
       "      <td>105.051</td>\n",
       "    </tr>\n",
       "    <tr>\n",
       "      <th>1</th>\n",
       "      <td>15817</td>\n",
       "      <td>15854</td>\n",
       "      <td>37</td>\n",
       "      <td>37</td>\n",
       "      <td>0.063</td>\n",
       "      <td>0.119</td>\n",
       "      <td>0.204</td>\n",
       "      <td>108.700</td>\n",
       "    </tr>\n",
       "    <tr>\n",
       "      <th>2</th>\n",
       "      <td>15896</td>\n",
       "      <td>15910</td>\n",
       "      <td>14</td>\n",
       "      <td>14</td>\n",
       "      <td>0.144</td>\n",
       "      <td>0.118</td>\n",
       "      <td>0.252</td>\n",
       "      <td>17.225</td>\n",
       "    </tr>\n",
       "  </tbody>\n",
       "</table>\n",
       "</div>"
      ],
      "text/plain": [
       "    Tope   Base  Espesor  ANP   Vshl   PHIE     Sw  PERMFZIK\n",
       "0  15756  15771       15   15  0.066  0.118  0.199   105.051\n",
       "1  15817  15854       37   37  0.063  0.119  0.204   108.700\n",
       "2  15896  15910       14   14  0.144  0.118  0.252    17.225"
      ]
     },
     "execution_count": 22,
     "metadata": {},
     "output_type": "execute_result"
    }
   ],
   "source": [
    "df_sumario = df_sumario.astype({\n",
    "    \"Tope\": \"int\",\n",
    "    \"Base\": \"int\",\n",
    "    \"Espesor\": \"int\",\n",
    "    \"ANP\": \"int\"\n",
    "})\n",
    "df_sumario"
   ]
  },
  {
   "cell_type": "code",
   "execution_count": 23,
   "id": "3ce2eb89",
   "metadata": {},
   "outputs": [],
   "source": [
    "nombreDePozo = input(\"Ingresa el nombre del Pozo: \")\n",
    "df_sumario.to_csv(f\"{rutaArchivo}/SumarioPetrofisico_{nombreDePozo}.csv\", index = False)"
   ]
  },
  {
   "cell_type": "code",
   "execution_count": 81,
   "id": "4b22bee7",
   "metadata": {},
   "outputs": [
    {
     "name": "stdout",
     "output_type": "stream",
     "text": [
      "Ingresa el nombre del Pozo: MUC-108\n"
     ]
    }
   ],
   "source": [
    "#nombreDePozo = input(\"Ingresa el nombre del Pozo: \")\n",
    "#df_sumario.to_csv(f\"D:/Documents and settings/gonzalezgta/Desktop/Petrofisica Carito/Sumarios/SumarioPetrofisico_{nombreDePozo}.csv\", index = False)"
   ]
  },
  {
   "cell_type": "code",
   "execution_count": null,
   "id": "3c940e53",
   "metadata": {},
   "outputs": [],
   "source": []
  }
 ],
 "metadata": {
  "kernelspec": {
   "display_name": "Python 3",
   "language": "python",
   "name": "python3"
  },
  "language_info": {
   "codemirror_mode": {
    "name": "ipython",
    "version": 3
   },
   "file_extension": ".py",
   "mimetype": "text/x-python",
   "name": "python",
   "nbconvert_exporter": "python",
   "pygments_lexer": "ipython3",
   "version": "3.11.2"
  }
 },
 "nbformat": 4,
 "nbformat_minor": 5
}
